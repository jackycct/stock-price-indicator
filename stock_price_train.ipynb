{
 "cells": [
  {
   "cell_type": "code",
   "execution_count": 2,
   "metadata": {
    "collapsed": false
   },
   "outputs": [
    {
     "name": "stderr",
     "output_type": "stream",
     "text": [
      "Using TensorFlow backend.\n"
     ]
    }
   ],
   "source": [
    "import numpy as np\n",
    "\n",
    "import matplotlib.pyplot as plt\n",
    "from sklearn.preprocessing import MinMaxScaler\n",
    "\n",
    "# Custom classes\n",
    "from loader import StockPriceLoader\n",
    "from preprocessor import Preprocessor\n",
    "from relative_strength_index import RSI\n",
    "from training_engine import TrainingEngine\n",
    "from reporting import Reporting"
   ]
  },
  {
   "cell_type": "code",
   "execution_count": 2,
   "metadata": {},
   "outputs": [],
   "source": [
    "stock_history_reader = StockPriceLoader()\n",
    "preprocessor = Preprocessor()\n",
    "training_engine = TrainingEngine()\n",
    "reporting = Reporting()\n",
    "\n",
    "no_of_records = 1000"
   ]
  },
  {
   "cell_type": "code",
   "execution_count": 5,
   "metadata": {
    "collapsed": false
   },
   "outputs": [
    {
     "name": "stdout",
     "output_type": "stream",
     "text": [
      "Preparing data with look back 30\nNo of rows loaded 999\n"
     ]
    },
    {
     "name": "stdout",
     "output_type": "stream",
     "text": [
      "Epoch 1/300\n"
     ]
    },
    {
     "name": "stdout",
     "output_type": "stream",
     "text": [
      "71s - loss: 0.0236 - acc: 0.0000e+00\nEpoch 2/300\n"
     ]
    },
    {
     "name": "stdout",
     "output_type": "stream",
     "text": [
      "68s - loss: 0.0236 - acc: 0.0000e+00\nEpoch 3/300\n"
     ]
    },
    {
     "name": "stdout",
     "output_type": "stream",
     "text": [
      "69s - loss: 0.0236 - acc: 0.0000e+00\nEpoch 4/300\n"
     ]
    },
    {
     "name": "stdout",
     "output_type": "stream",
     "text": [
      "71s - loss: 0.0236 - acc: 0.0000e+00\nEpoch 5/300\n"
     ]
    },
    {
     "name": "stdout",
     "output_type": "stream",
     "text": [
      "73s - loss: 0.0236 - acc: 0.0000e+00\nEpoch 6/300\n"
     ]
    },
    {
     "name": "stdout",
     "output_type": "stream",
     "text": [
      "73s - loss: 0.0236 - acc: 0.0000e+00\nEpoch 7/300\n"
     ]
    },
    {
     "name": "stdout",
     "output_type": "stream",
     "text": [
      "72s - loss: 0.0236 - acc: 0.0000e+00\nEpoch 8/300\n"
     ]
    },
    {
     "name": "stdout",
     "output_type": "stream",
     "text": [
      "68s - loss: 0.0235 - acc: 0.0000e+00\nEpoch 9/300\n"
     ]
    },
    {
     "name": "stdout",
     "output_type": "stream",
     "text": [
      "67s - loss: 0.0236 - acc: 0.0000e+00\nEpoch 10/300\n"
     ]
    },
    {
     "name": "stdout",
     "output_type": "stream",
     "text": [
      "70s - loss: 0.0232 - acc: 0.0000e+00\nEpoch 11/300\n"
     ]
    },
    {
     "name": "stdout",
     "output_type": "stream",
     "text": [
      "74s - loss: 0.0234 - acc: 0.0000e+00\nEpoch 12/300\n"
     ]
    },
    {
     "name": "stdout",
     "output_type": "stream",
     "text": [
      "77s - loss: 0.0232 - acc: 0.0000e+00\nEpoch 13/300\n"
     ]
    },
    {
     "name": "stdout",
     "output_type": "stream",
     "text": [
      "73s - loss: 0.0231 - acc: 0.0000e+00\nEpoch 14/300\n"
     ]
    },
    {
     "name": "stdout",
     "output_type": "stream",
     "text": [
      "69s - loss: 0.0232 - acc: 0.0000e+00\nEpoch 15/300\n"
     ]
    },
    {
     "name": "stdout",
     "output_type": "stream",
     "text": [
      "77s - loss: 0.0233 - acc: 0.0000e+00\nEpoch 16/300\n"
     ]
    },
    {
     "name": "stdout",
     "output_type": "stream",
     "text": [
      "77s - loss: 0.0232 - acc: 0.0000e+00\nEpoch 17/300\n"
     ]
    },
    {
     "name": "stdout",
     "output_type": "stream",
     "text": [
      "76s - loss: 0.0231 - acc: 0.0000e+00\nEpoch 18/300\n"
     ]
    },
    {
     "name": "stdout",
     "output_type": "stream",
     "text": [
      "76s - loss: 0.0230 - acc: 0.0000e+00\nEpoch 19/300\n"
     ]
    },
    {
     "name": "stdout",
     "output_type": "stream",
     "text": [
      "76s - loss: 0.0226 - acc: 0.0000e+00\nEpoch 20/300\n"
     ]
    },
    {
     "name": "stdout",
     "output_type": "stream",
     "text": [
      "76s - loss: 0.0228 - acc: 0.0000e+00\nEpoch 21/300\n"
     ]
    },
    {
     "name": "stdout",
     "output_type": "stream",
     "text": [
      "75s - loss: 0.0226 - acc: 0.0000e+00\nEpoch 22/300\n"
     ]
    },
    {
     "name": "stdout",
     "output_type": "stream",
     "text": [
      "76s - loss: 0.0228 - acc: 0.0000e+00\nEpoch 23/300\n"
     ]
    },
    {
     "name": "stdout",
     "output_type": "stream",
     "text": [
      "76s - loss: 0.0226 - acc: 0.0000e+00\nEpoch 24/300\n"
     ]
    },
    {
     "name": "stdout",
     "output_type": "stream",
     "text": [
      "76s - loss: 0.0226 - acc: 0.0000e+00\nEpoch 25/300\n"
     ]
    },
    {
     "name": "stdout",
     "output_type": "stream",
     "text": [
      "76s - loss: 0.0225 - acc: 0.0000e+00\nEpoch 26/300\n"
     ]
    },
    {
     "name": "stdout",
     "output_type": "stream",
     "text": [
      "78s - loss: 0.0227 - acc: 0.0000e+00\nEpoch 27/300\n"
     ]
    },
    {
     "name": "stdout",
     "output_type": "stream",
     "text": [
      "79s - loss: 0.0225 - acc: 0.0000e+00\nEpoch 28/300\n"
     ]
    },
    {
     "name": "stdout",
     "output_type": "stream",
     "text": [
      "78s - loss: 0.0222 - acc: 0.0000e+00\nEpoch 29/300\n"
     ]
    },
    {
     "name": "stdout",
     "output_type": "stream",
     "text": [
      "78s - loss: 0.0221 - acc: 0.0000e+00\nEpoch 30/300\n"
     ]
    },
    {
     "name": "stdout",
     "output_type": "stream",
     "text": [
      "76s - loss: 0.0222 - acc: 0.0000e+00\nEpoch 31/300\n"
     ]
    },
    {
     "name": "stdout",
     "output_type": "stream",
     "text": [
      "76s - loss: 0.0218 - acc: 0.0000e+00\nEpoch 32/300\n"
     ]
    },
    {
     "name": "stdout",
     "output_type": "stream",
     "text": [
      "76s - loss: 0.0219 - acc: 0.0000e+00\nEpoch 33/300\n"
     ]
    },
    {
     "name": "stdout",
     "output_type": "stream",
     "text": [
      "76s - loss: 0.0217 - acc: 0.0000e+00\nEpoch 34/300\n"
     ]
    },
    {
     "name": "stdout",
     "output_type": "stream",
     "text": [
      "73s - loss: 0.0220 - acc: 0.0000e+00\nEpoch 35/300\n"
     ]
    },
    {
     "name": "stdout",
     "output_type": "stream",
     "text": [
      "72s - loss: 0.0219 - acc: 0.0000e+00\nEpoch 36/300\n"
     ]
    },
    {
     "name": "stdout",
     "output_type": "stream",
     "text": [
      "74s - loss: 0.0215 - acc: 0.0000e+00\nEpoch 37/300\n"
     ]
    },
    {
     "name": "stdout",
     "output_type": "stream",
     "text": [
      "75s - loss: 0.0214 - acc: 0.0000e+00\nEpoch 38/300\n"
     ]
    },
    {
     "name": "stdout",
     "output_type": "stream",
     "text": [
      "74s - loss: 0.0211 - acc: 0.0000e+00\nEpoch 39/300\n"
     ]
    },
    {
     "name": "stdout",
     "output_type": "stream",
     "text": [
      "71s - loss: 0.0211 - acc: 0.0000e+00\nEpoch 40/300\n"
     ]
    },
    {
     "name": "stdout",
     "output_type": "stream",
     "text": [
      "71s - loss: 0.0204 - acc: 0.0000e+00\nEpoch 41/300\n"
     ]
    },
    {
     "name": "stdout",
     "output_type": "stream",
     "text": [
      "76s - loss: 0.0204 - acc: 0.0000e+00\nEpoch 42/300\n"
     ]
    },
    {
     "name": "stdout",
     "output_type": "stream",
     "text": [
      "77s - loss: 0.0203 - acc: 0.0000e+00\nEpoch 43/300\n"
     ]
    },
    {
     "name": "stdout",
     "output_type": "stream",
     "text": [
      "77s - loss: 0.0199 - acc: 0.0000e+00\nEpoch 44/300\n"
     ]
    },
    {
     "name": "stdout",
     "output_type": "stream",
     "text": [
      "77s - loss: 0.0204 - acc: 0.0000e+00\nEpoch 45/300\n"
     ]
    },
    {
     "name": "stdout",
     "output_type": "stream",
     "text": [
      "76s - loss: 0.0198 - acc: 0.0000e+00\nEpoch 46/300\n"
     ]
    },
    {
     "name": "stdout",
     "output_type": "stream",
     "text": [
      "77s - loss: 0.0197 - acc: 0.0000e+00\nEpoch 47/300\n"
     ]
    },
    {
     "name": "stdout",
     "output_type": "stream",
     "text": [
      "77s - loss: 0.0196 - acc: 0.0000e+00\nEpoch 48/300\n"
     ]
    },
    {
     "name": "stdout",
     "output_type": "stream",
     "text": [
      "72s - loss: 0.0190 - acc: 0.0000e+00\nEpoch 49/300\n"
     ]
    },
    {
     "name": "stdout",
     "output_type": "stream",
     "text": [
      "69s - loss: 0.0195 - acc: 0.0000e+00\nEpoch 50/300\n"
     ]
    },
    {
     "name": "stdout",
     "output_type": "stream",
     "text": [
      "68s - loss: 0.0193 - acc: 0.0000e+00\nEpoch 51/300\n"
     ]
    },
    {
     "name": "stdout",
     "output_type": "stream",
     "text": [
      "69s - loss: 0.0190 - acc: 0.0000e+00\nEpoch 52/300\n"
     ]
    },
    {
     "name": "stdout",
     "output_type": "stream",
     "text": [
      "68s - loss: 0.0186 - acc: 0.0000e+00\nEpoch 53/300\n"
     ]
    },
    {
     "name": "stdout",
     "output_type": "stream",
     "text": [
      "69s - loss: 0.0186 - acc: 0.0000e+00\nEpoch 54/300\n"
     ]
    },
    {
     "name": "stdout",
     "output_type": "stream",
     "text": [
      "68s - loss: 0.0183 - acc: 0.0000e+00\nEpoch 55/300\n"
     ]
    },
    {
     "name": "stdout",
     "output_type": "stream",
     "text": [
      "68s - loss: 0.0180 - acc: 0.0000e+00\nEpoch 56/300\n"
     ]
    },
    {
     "name": "stdout",
     "output_type": "stream",
     "text": [
      "69s - loss: 0.0175 - acc: 0.0000e+00\nEpoch 57/300\n"
     ]
    },
    {
     "name": "stdout",
     "output_type": "stream",
     "text": [
      "68s - loss: 0.0173 - acc: 0.0000e+00\nEpoch 58/300\n"
     ]
    },
    {
     "name": "stdout",
     "output_type": "stream",
     "text": [
      "68s - loss: 0.0170 - acc: 0.0000e+00\nEpoch 59/300\n"
     ]
    },
    {
     "name": "stdout",
     "output_type": "stream",
     "text": [
      "70s - loss: 0.0168 - acc: 0.0000e+00\nEpoch 60/300\n"
     ]
    },
    {
     "name": "stdout",
     "output_type": "stream",
     "text": [
      "70s - loss: 0.0166 - acc: 0.0000e+00\nEpoch 61/300\n"
     ]
    },
    {
     "name": "stdout",
     "output_type": "stream",
     "text": [
      "70s - loss: 0.0165 - acc: 0.0000e+00\nEpoch 62/300\n"
     ]
    },
    {
     "name": "stdout",
     "output_type": "stream",
     "text": [
      "70s - loss: 0.0164 - acc: 0.0000e+00\nEpoch 63/300\n"
     ]
    },
    {
     "name": "stdout",
     "output_type": "stream",
     "text": [
      "68s - loss: 0.0162 - acc: 0.0000e+00\nEpoch 64/300\n"
     ]
    },
    {
     "name": "stdout",
     "output_type": "stream",
     "text": [
      "69s - loss: 0.0157 - acc: 0.0000e+00\nEpoch 65/300\n"
     ]
    },
    {
     "name": "stdout",
     "output_type": "stream",
     "text": [
      "71s - loss: 0.0160 - acc: 0.0000e+00\nEpoch 66/300\n"
     ]
    },
    {
     "name": "stdout",
     "output_type": "stream",
     "text": [
      "69s - loss: 0.0158 - acc: 0.0000e+00\nEpoch 67/300\n"
     ]
    },
    {
     "name": "stdout",
     "output_type": "stream",
     "text": [
      "71s - loss: 0.0146 - acc: 0.0000e+00\nEpoch 68/300\n"
     ]
    },
    {
     "name": "stdout",
     "output_type": "stream",
     "text": [
      "71s - loss: 0.0152 - acc: 0.0000e+00\nEpoch 69/300\n"
     ]
    },
    {
     "name": "stdout",
     "output_type": "stream",
     "text": [
      "72s - loss: 0.0148 - acc: 0.0000e+00\nEpoch 70/300\n"
     ]
    },
    {
     "name": "stdout",
     "output_type": "stream",
     "text": [
      "70s - loss: 0.0152 - acc: 0.0000e+00\nEpoch 71/300\n"
     ]
    },
    {
     "name": "stdout",
     "output_type": "stream",
     "text": [
      "70s - loss: 0.0143 - acc: 0.0000e+00\nEpoch 72/300\n"
     ]
    },
    {
     "name": "stdout",
     "output_type": "stream",
     "text": [
      "69s - loss: 0.0145 - acc: 0.0000e+00\nEpoch 73/300\n"
     ]
    },
    {
     "name": "stdout",
     "output_type": "stream",
     "text": [
      "69s - loss: 0.0144 - acc: 0.0000e+00\nEpoch 74/300\n"
     ]
    },
    {
     "name": "stdout",
     "output_type": "stream",
     "text": [
      "70s - loss: 0.0139 - acc: 0.0000e+00\nEpoch 75/300\n"
     ]
    },
    {
     "name": "stdout",
     "output_type": "stream",
     "text": [
      "68s - loss: 0.0135 - acc: 0.0000e+00\nEpoch 76/300\n"
     ]
    },
    {
     "name": "stdout",
     "output_type": "stream",
     "text": [
      "70s - loss: 0.0136 - acc: 0.0000e+00\nEpoch 77/300\n"
     ]
    },
    {
     "name": "stdout",
     "output_type": "stream",
     "text": [
      "70s - loss: 0.0135 - acc: 0.0000e+00\nEpoch 78/300\n"
     ]
    },
    {
     "name": "stdout",
     "output_type": "stream",
     "text": [
      "69s - loss: 0.0134 - acc: 0.0000e+00\nEpoch 79/300\n"
     ]
    },
    {
     "name": "stdout",
     "output_type": "stream",
     "text": [
      "69s - loss: 0.0131 - acc: 0.0000e+00\nEpoch 80/300\n"
     ]
    },
    {
     "name": "stdout",
     "output_type": "stream",
     "text": [
      "68s - loss: 0.0125 - acc: 0.0000e+00\nEpoch 81/300\n"
     ]
    },
    {
     "name": "stdout",
     "output_type": "stream",
     "text": [
      "70s - loss: 0.0127 - acc: 0.0000e+00\nEpoch 82/300\n"
     ]
    },
    {
     "name": "stdout",
     "output_type": "stream",
     "text": [
      "70s - loss: 0.0122 - acc: 0.0000e+00\nEpoch 83/300\n"
     ]
    },
    {
     "name": "stdout",
     "output_type": "stream",
     "text": [
      "71s - loss: 0.0128 - acc: 0.0000e+00\nEpoch 84/300\n"
     ]
    },
    {
     "name": "stdout",
     "output_type": "stream",
     "text": [
      "71s - loss: 0.0119 - acc: 0.0000e+00\nEpoch 85/300\n"
     ]
    },
    {
     "name": "stdout",
     "output_type": "stream",
     "text": [
      "71s - loss: 0.0123 - acc: 0.0000e+00\nEpoch 86/300\n"
     ]
    },
    {
     "name": "stdout",
     "output_type": "stream",
     "text": [
      "70s - loss: 0.0118 - acc: 0.0000e+00\nEpoch 87/300\n"
     ]
    },
    {
     "name": "stdout",
     "output_type": "stream",
     "text": [
      "70s - loss: 0.0118 - acc: 0.0000e+00\nEpoch 88/300\n"
     ]
    },
    {
     "name": "stdout",
     "output_type": "stream",
     "text": [
      "71s - loss: 0.0117 - acc: 0.0000e+00\nEpoch 89/300\n"
     ]
    },
    {
     "name": "stdout",
     "output_type": "stream",
     "text": [
      "70s - loss: 0.0115 - acc: 0.0000e+00\nEpoch 90/300\n"
     ]
    },
    {
     "name": "stdout",
     "output_type": "stream",
     "text": [
      "72s - loss: 0.0110 - acc: 0.0000e+00\nEpoch 91/300\n"
     ]
    },
    {
     "name": "stdout",
     "output_type": "stream",
     "text": [
      "70s - loss: 0.0106 - acc: 0.0000e+00\nEpoch 92/300\n"
     ]
    },
    {
     "name": "stdout",
     "output_type": "stream",
     "text": [
      "68s - loss: 0.0107 - acc: 0.0000e+00\nEpoch 93/300\n"
     ]
    },
    {
     "name": "stdout",
     "output_type": "stream",
     "text": [
      "69s - loss: 0.0110 - acc: 0.0000e+00\nEpoch 94/300\n"
     ]
    },
    {
     "name": "stdout",
     "output_type": "stream",
     "text": [
      "70s - loss: 0.0107 - acc: 0.0000e+00\nEpoch 95/300\n"
     ]
    },
    {
     "name": "stdout",
     "output_type": "stream",
     "text": [
      "70s - loss: 0.0101 - acc: 0.0000e+00\nEpoch 96/300\n"
     ]
    },
    {
     "name": "stdout",
     "output_type": "stream",
     "text": [
      "70s - loss: 0.0104 - acc: 0.0000e+00\nEpoch 97/300\n"
     ]
    },
    {
     "name": "stdout",
     "output_type": "stream",
     "text": [
      "69s - loss: 0.0104 - acc: 0.0000e+00\nEpoch 98/300\n"
     ]
    },
    {
     "name": "stdout",
     "output_type": "stream",
     "text": [
      "67s - loss: 0.0102 - acc: 0.0000e+00\nEpoch 99/300\n"
     ]
    },
    {
     "name": "stdout",
     "output_type": "stream",
     "text": [
      "69s - loss: 0.0097 - acc: 0.0000e+00\nEpoch 100/300\n"
     ]
    },
    {
     "name": "stdout",
     "output_type": "stream",
     "text": [
      "68s - loss: 0.0095 - acc: 0.0000e+00\nEpoch 101/300\n"
     ]
    },
    {
     "name": "stdout",
     "output_type": "stream",
     "text": [
      "67s - loss: 0.0095 - acc: 0.0000e+00\nEpoch 102/300\n"
     ]
    },
    {
     "name": "stdout",
     "output_type": "stream",
     "text": [
      "67s - loss: 0.0097 - acc: 0.0000e+00\nEpoch 103/300\n"
     ]
    },
    {
     "name": "stdout",
     "output_type": "stream",
     "text": [
      "67s - loss: 0.0092 - acc: 0.0000e+00\nEpoch 104/300\n"
     ]
    },
    {
     "name": "stdout",
     "output_type": "stream",
     "text": [
      "69s - loss: 0.0088 - acc: 0.0000e+00\nEpoch 105/300\n"
     ]
    },
    {
     "name": "stdout",
     "output_type": "stream",
     "text": [
      "66s - loss: 0.0092 - acc: 0.0000e+00\nEpoch 106/300\n"
     ]
    },
    {
     "name": "stdout",
     "output_type": "stream",
     "text": [
      "66s - loss: 0.0088 - acc: 0.0000e+00\nEpoch 107/300\n"
     ]
    },
    {
     "name": "stdout",
     "output_type": "stream",
     "text": [
      "68s - loss: 0.0091 - acc: 0.0000e+00\nEpoch 108/300\n"
     ]
    },
    {
     "name": "stdout",
     "output_type": "stream",
     "text": [
      "67s - loss: 0.0082 - acc: 0.0000e+00\nEpoch 109/300\n"
     ]
    },
    {
     "name": "stdout",
     "output_type": "stream",
     "text": [
      "67s - loss: 0.0085 - acc: 0.0000e+00\nEpoch 110/300\n"
     ]
    },
    {
     "name": "stdout",
     "output_type": "stream",
     "text": [
      "67s - loss: 0.0080 - acc: 0.0000e+00\nEpoch 111/300\n"
     ]
    },
    {
     "name": "stdout",
     "output_type": "stream",
     "text": [
      "67s - loss: 0.0080 - acc: 0.0000e+00\nEpoch 112/300\n"
     ]
    },
    {
     "name": "stdout",
     "output_type": "stream",
     "text": [
      "68s - loss: 0.0081 - acc: 0.0000e+00\nEpoch 113/300\n"
     ]
    },
    {
     "name": "stdout",
     "output_type": "stream",
     "text": [
      "68s - loss: 0.0080 - acc: 0.0000e+00\nEpoch 114/300\n"
     ]
    },
    {
     "name": "stdout",
     "output_type": "stream",
     "text": [
      "68s - loss: 0.0078 - acc: 0.0000e+00\nEpoch 115/300\n"
     ]
    },
    {
     "name": "stdout",
     "output_type": "stream",
     "text": [
      "67s - loss: 0.0075 - acc: 0.0000e+00\nEpoch 116/300\n"
     ]
    },
    {
     "name": "stdout",
     "output_type": "stream",
     "text": [
      "67s - loss: 0.0073 - acc: 0.0000e+00\nEpoch 117/300\n"
     ]
    },
    {
     "name": "stdout",
     "output_type": "stream",
     "text": [
      "67s - loss: 0.0072 - acc: 0.0000e+00\nEpoch 118/300\n"
     ]
    },
    {
     "name": "stdout",
     "output_type": "stream",
     "text": [
      "66s - loss: 0.0076 - acc: 0.0000e+00\nEpoch 119/300\n"
     ]
    },
    {
     "name": "stdout",
     "output_type": "stream",
     "text": [
      "66s - loss: 0.0071 - acc: 0.0000e+00\nEpoch 120/300\n"
     ]
    },
    {
     "name": "stdout",
     "output_type": "stream",
     "text": [
      "67s - loss: 0.0070 - acc: 0.0000e+00\nEpoch 121/300\n"
     ]
    },
    {
     "name": "stdout",
     "output_type": "stream",
     "text": [
      "66s - loss: 0.0070 - acc: 0.0000e+00\nEpoch 122/300\n"
     ]
    },
    {
     "name": "stdout",
     "output_type": "stream",
     "text": [
      "67s - loss: 0.0072 - acc: 0.0000e+00\nEpoch 123/300\n"
     ]
    },
    {
     "name": "stdout",
     "output_type": "stream",
     "text": [
      "67s - loss: 0.0073 - acc: 0.0000e+00\nEpoch 124/300\n"
     ]
    },
    {
     "name": "stdout",
     "output_type": "stream",
     "text": [
      "68s - loss: 0.0067 - acc: 0.0000e+00\nEpoch 125/300\n"
     ]
    },
    {
     "name": "stdout",
     "output_type": "stream",
     "text": [
      "69s - loss: 0.0066 - acc: 0.0000e+00\nEpoch 126/300\n"
     ]
    },
    {
     "name": "stdout",
     "output_type": "stream",
     "text": [
      "69s - loss: 0.0062 - acc: 0.0000e+00\nEpoch 127/300\n"
     ]
    },
    {
     "name": "stdout",
     "output_type": "stream",
     "text": [
      "67s - loss: 0.0068 - acc: 0.0000e+00\nEpoch 128/300\n"
     ]
    },
    {
     "name": "stdout",
     "output_type": "stream",
     "text": [
      "67s - loss: 0.0067 - acc: 0.0000e+00\nEpoch 129/300\n"
     ]
    },
    {
     "name": "stdout",
     "output_type": "stream",
     "text": [
      "66s - loss: 0.0063 - acc: 0.0000e+00\nEpoch 130/300\n"
     ]
    },
    {
     "name": "stdout",
     "output_type": "stream",
     "text": [
      "66s - loss: 0.0061 - acc: 0.0000e+00\nEpoch 131/300\n"
     ]
    },
    {
     "name": "stdout",
     "output_type": "stream",
     "text": [
      "68s - loss: 0.0061 - acc: 0.0000e+00\nEpoch 132/300\n"
     ]
    },
    {
     "name": "stdout",
     "output_type": "stream",
     "text": [
      "66s - loss: 0.0060 - acc: 0.0000e+00\nEpoch 133/300\n"
     ]
    },
    {
     "name": "stdout",
     "output_type": "stream",
     "text": [
      "66s - loss: 0.0066 - acc: 0.0000e+00\nEpoch 134/300\n"
     ]
    },
    {
     "name": "stdout",
     "output_type": "stream",
     "text": [
      "66s - loss: 0.0060 - acc: 0.0000e+00\nEpoch 135/300\n"
     ]
    },
    {
     "name": "stdout",
     "output_type": "stream",
     "text": [
      "66s - loss: 0.0061 - acc: 0.0000e+00\nEpoch 136/300\n"
     ]
    },
    {
     "name": "stdout",
     "output_type": "stream",
     "text": [
      "66s - loss: 0.0060 - acc: 0.0000e+00\nEpoch 137/300\n"
     ]
    },
    {
     "name": "stdout",
     "output_type": "stream",
     "text": [
      "66s - loss: 0.0058 - acc: 0.0000e+00\nEpoch 138/300\n"
     ]
    },
    {
     "name": "stdout",
     "output_type": "stream",
     "text": [
      "66s - loss: 0.0056 - acc: 0.0000e+00\nEpoch 139/300\n"
     ]
    },
    {
     "name": "stdout",
     "output_type": "stream",
     "text": [
      "67s - loss: 0.0051 - acc: 0.0000e+00\nEpoch 140/300\n"
     ]
    },
    {
     "name": "stdout",
     "output_type": "stream",
     "text": [
      "67s - loss: 0.0056 - acc: 0.0000e+00\nEpoch 141/300\n"
     ]
    },
    {
     "name": "stdout",
     "output_type": "stream",
     "text": [
      "67s - loss: 0.0054 - acc: 0.0000e+00\nEpoch 142/300\n"
     ]
    },
    {
     "name": "stdout",
     "output_type": "stream",
     "text": [
      "66s - loss: 0.0056 - acc: 0.0000e+00\nEpoch 143/300\n"
     ]
    },
    {
     "name": "stdout",
     "output_type": "stream",
     "text": [
      "67s - loss: 0.0054 - acc: 0.0000e+00\nEpoch 144/300\n"
     ]
    },
    {
     "name": "stdout",
     "output_type": "stream",
     "text": [
      "66s - loss: 0.0055 - acc: 0.0000e+00\nEpoch 145/300\n"
     ]
    },
    {
     "name": "stdout",
     "output_type": "stream",
     "text": [
      "66s - loss: 0.0054 - acc: 0.0000e+00\nEpoch 146/300\n"
     ]
    },
    {
     "name": "stdout",
     "output_type": "stream",
     "text": [
      "67s - loss: 0.0052 - acc: 0.0000e+00\nEpoch 147/300\n"
     ]
    },
    {
     "name": "stdout",
     "output_type": "stream",
     "text": [
      "66s - loss: 0.0047 - acc: 0.0000e+00\nEpoch 148/300\n"
     ]
    },
    {
     "name": "stdout",
     "output_type": "stream",
     "text": [
      "66s - loss: 0.0050 - acc: 0.0000e+00\nEpoch 149/300\n"
     ]
    },
    {
     "name": "stdout",
     "output_type": "stream",
     "text": [
      "66s - loss: 0.0049 - acc: 0.0000e+00\nEpoch 150/300\n"
     ]
    },
    {
     "name": "stdout",
     "output_type": "stream",
     "text": [
      "66s - loss: 0.0046 - acc: 0.0000e+00\nEpoch 151/300\n"
     ]
    },
    {
     "name": "stdout",
     "output_type": "stream",
     "text": [
      "66s - loss: 0.0046 - acc: 0.0000e+00\nEpoch 152/300\n"
     ]
    },
    {
     "name": "stdout",
     "output_type": "stream",
     "text": [
      "66s - loss: 0.0047 - acc: 0.0000e+00\nEpoch 153/300\n"
     ]
    },
    {
     "name": "stdout",
     "output_type": "stream",
     "text": [
      "66s - loss: 0.0046 - acc: 0.0000e+00\nEpoch 154/300\n"
     ]
    },
    {
     "name": "stdout",
     "output_type": "stream",
     "text": [
      "66s - loss: 0.0050 - acc: 0.0000e+00\nEpoch 155/300\n"
     ]
    },
    {
     "name": "stdout",
     "output_type": "stream",
     "text": [
      "66s - loss: 0.0047 - acc: 0.0000e+00\nEpoch 156/300\n"
     ]
    },
    {
     "name": "stdout",
     "output_type": "stream",
     "text": [
      "66s - loss: 0.0046 - acc: 0.0000e+00\nEpoch 157/300\n"
     ]
    },
    {
     "name": "stdout",
     "output_type": "stream",
     "text": [
      "66s - loss: 0.0045 - acc: 0.0000e+00\nEpoch 158/300\n"
     ]
    },
    {
     "name": "stdout",
     "output_type": "stream",
     "text": [
      "66s - loss: 0.0043 - acc: 0.0000e+00\nEpoch 159/300\n"
     ]
    },
    {
     "name": "stdout",
     "output_type": "stream",
     "text": [
      "66s - loss: 0.0042 - acc: 0.0000e+00\nEpoch 160/300\n"
     ]
    },
    {
     "name": "stdout",
     "output_type": "stream",
     "text": [
      "66s - loss: 0.0042 - acc: 0.0000e+00\nEpoch 161/300\n"
     ]
    },
    {
     "name": "stdout",
     "output_type": "stream",
     "text": [
      "66s - loss: 0.0041 - acc: 0.0000e+00\nEpoch 162/300\n"
     ]
    },
    {
     "name": "stdout",
     "output_type": "stream",
     "text": [
      "66s - loss: 0.0042 - acc: 0.0000e+00\nEpoch 163/300\n"
     ]
    },
    {
     "name": "stdout",
     "output_type": "stream",
     "text": [
      "66s - loss: 0.0042 - acc: 0.0000e+00\nEpoch 164/300\n"
     ]
    },
    {
     "name": "stdout",
     "output_type": "stream",
     "text": [
      "66s - loss: 0.0039 - acc: 0.0000e+00\nEpoch 165/300\n"
     ]
    },
    {
     "name": "stdout",
     "output_type": "stream",
     "text": [
      "66s - loss: 0.0041 - acc: 0.0000e+00\nEpoch 166/300\n"
     ]
    },
    {
     "name": "stdout",
     "output_type": "stream",
     "text": [
      "66s - loss: 0.0043 - acc: 0.0000e+00\nEpoch 167/300\n"
     ]
    },
    {
     "name": "stdout",
     "output_type": "stream",
     "text": [
      "66s - loss: 0.0040 - acc: 0.0000e+00\nEpoch 168/300\n"
     ]
    },
    {
     "name": "stdout",
     "output_type": "stream",
     "text": [
      "66s - loss: 0.0040 - acc: 0.0000e+00\nEpoch 169/300\n"
     ]
    },
    {
     "name": "stdout",
     "output_type": "stream",
     "text": [
      "66s - loss: 0.0040 - acc: 0.0000e+00\nEpoch 170/300\n"
     ]
    },
    {
     "name": "stdout",
     "output_type": "stream",
     "text": [
      "67s - loss: 0.0037 - acc: 0.0000e+00\nEpoch 171/300\n"
     ]
    },
    {
     "name": "stdout",
     "output_type": "stream",
     "text": [
      "66s - loss: 0.0044 - acc: 0.0000e+00\nEpoch 172/300\n"
     ]
    },
    {
     "name": "stdout",
     "output_type": "stream",
     "text": [
      "66s - loss: 0.0038 - acc: 0.0000e+00\nEpoch 173/300\n"
     ]
    },
    {
     "name": "stdout",
     "output_type": "stream",
     "text": [
      "66s - loss: 0.0036 - acc: 0.0000e+00\nEpoch 174/300\n"
     ]
    },
    {
     "name": "stdout",
     "output_type": "stream",
     "text": [
      "66s - loss: 0.0037 - acc: 0.0000e+00\nEpoch 175/300\n"
     ]
    },
    {
     "name": "stdout",
     "output_type": "stream",
     "text": [
      "66s - loss: 0.0036 - acc: 0.0000e+00\nEpoch 176/300\n"
     ]
    },
    {
     "name": "stdout",
     "output_type": "stream",
     "text": [
      "66s - loss: 0.0042 - acc: 0.0000e+00\nEpoch 177/300\n"
     ]
    },
    {
     "name": "stdout",
     "output_type": "stream",
     "text": [
      "66s - loss: 0.0039 - acc: 0.0000e+00\nEpoch 178/300\n"
     ]
    },
    {
     "name": "stdout",
     "output_type": "stream",
     "text": [
      "66s - loss: 0.0037 - acc: 0.0000e+00\nEpoch 179/300\n"
     ]
    },
    {
     "name": "stdout",
     "output_type": "stream",
     "text": [
      "66s - loss: 0.0039 - acc: 0.0000e+00\nEpoch 180/300\n"
     ]
    },
    {
     "name": "stdout",
     "output_type": "stream",
     "text": [
      "66s - loss: 0.0036 - acc: 0.0000e+00\nEpoch 181/300\n"
     ]
    },
    {
     "name": "stdout",
     "output_type": "stream",
     "text": [
      "66s - loss: 0.0036 - acc: 0.0000e+00\nEpoch 182/300\n"
     ]
    },
    {
     "name": "stdout",
     "output_type": "stream",
     "text": [
      "66s - loss: 0.0035 - acc: 0.0000e+00\nEpoch 183/300\n"
     ]
    },
    {
     "name": "stdout",
     "output_type": "stream",
     "text": [
      "66s - loss: 0.0033 - acc: 0.0000e+00\nEpoch 184/300\n"
     ]
    },
    {
     "name": "stdout",
     "output_type": "stream",
     "text": [
      "66s - loss: 0.0030 - acc: 0.0000e+00\nEpoch 185/300\n"
     ]
    },
    {
     "name": "stdout",
     "output_type": "stream",
     "text": [
      "66s - loss: 0.0036 - acc: 0.0000e+00\nEpoch 186/300\n"
     ]
    },
    {
     "name": "stdout",
     "output_type": "stream",
     "text": [
      "66s - loss: 0.0032 - acc: 0.0000e+00\nEpoch 187/300\n"
     ]
    },
    {
     "name": "stdout",
     "output_type": "stream",
     "text": [
      "66s - loss: 0.0036 - acc: 0.0000e+00\nEpoch 188/300\n"
     ]
    },
    {
     "name": "stdout",
     "output_type": "stream",
     "text": [
      "66s - loss: 0.0037 - acc: 0.0000e+00\nEpoch 189/300\n"
     ]
    },
    {
     "name": "stdout",
     "output_type": "stream",
     "text": [
      "66s - loss: 0.0031 - acc: 0.0000e+00\nEpoch 190/300\n"
     ]
    },
    {
     "name": "stdout",
     "output_type": "stream",
     "text": [
      "66s - loss: 0.0032 - acc: 0.0000e+00\nEpoch 191/300\n"
     ]
    },
    {
     "name": "stdout",
     "output_type": "stream",
     "text": [
      "66s - loss: 0.0033 - acc: 0.0000e+00\nEpoch 192/300\n"
     ]
    },
    {
     "name": "stdout",
     "output_type": "stream",
     "text": [
      "66s - loss: 0.0033 - acc: 0.0000e+00\nEpoch 193/300\n"
     ]
    },
    {
     "name": "stdout",
     "output_type": "stream",
     "text": [
      "66s - loss: 0.0033 - acc: 0.0000e+00\nEpoch 194/300\n"
     ]
    },
    {
     "name": "stdout",
     "output_type": "stream",
     "text": [
      "66s - loss: 0.0033 - acc: 0.0000e+00\nEpoch 195/300\n"
     ]
    },
    {
     "name": "stdout",
     "output_type": "stream",
     "text": [
      "66s - loss: 0.0030 - acc: 0.0000e+00\nEpoch 196/300\n"
     ]
    },
    {
     "name": "stdout",
     "output_type": "stream",
     "text": [
      "65s - loss: 0.0030 - acc: 0.0000e+00\nEpoch 197/300\n"
     ]
    },
    {
     "name": "stdout",
     "output_type": "stream",
     "text": [
      "59s - loss: 0.0029 - acc: 0.0000e+00\nEpoch 198/300\n"
     ]
    },
    {
     "name": "stdout",
     "output_type": "stream",
     "text": [
      "66s - loss: 0.0029 - acc: 0.0000e+00\nEpoch 199/300\n"
     ]
    },
    {
     "name": "stdout",
     "output_type": "stream",
     "text": [
      "66s - loss: 0.0033 - acc: 0.0000e+00\nEpoch 200/300\n"
     ]
    },
    {
     "name": "stdout",
     "output_type": "stream",
     "text": [
      "66s - loss: 0.0028 - acc: 0.0000e+00\nEpoch 201/300\n"
     ]
    },
    {
     "name": "stdout",
     "output_type": "stream",
     "text": [
      "66s - loss: 0.0030 - acc: 0.0000e+00\nEpoch 202/300\n"
     ]
    },
    {
     "name": "stdout",
     "output_type": "stream",
     "text": [
      "66s - loss: 0.0029 - acc: 0.0000e+00\nEpoch 203/300\n"
     ]
    },
    {
     "name": "stdout",
     "output_type": "stream",
     "text": [
      "66s - loss: 0.0029 - acc: 0.0000e+00\nEpoch 204/300\n"
     ]
    },
    {
     "name": "stdout",
     "output_type": "stream",
     "text": [
      "66s - loss: 0.0029 - acc: 0.0000e+00\nEpoch 205/300\n"
     ]
    },
    {
     "name": "stdout",
     "output_type": "stream",
     "text": [
      "66s - loss: 0.0027 - acc: 0.0000e+00\nEpoch 206/300\n"
     ]
    },
    {
     "name": "stdout",
     "output_type": "stream",
     "text": [
      "66s - loss: 0.0034 - acc: 0.0000e+00\nEpoch 207/300\n"
     ]
    },
    {
     "name": "stdout",
     "output_type": "stream",
     "text": [
      "66s - loss: 0.0026 - acc: 0.0000e+00\nEpoch 208/300\n"
     ]
    },
    {
     "name": "stdout",
     "output_type": "stream",
     "text": [
      "66s - loss: 0.0028 - acc: 0.0000e+00\nEpoch 209/300\n"
     ]
    },
    {
     "name": "stdout",
     "output_type": "stream",
     "text": [
      "66s - loss: 0.0029 - acc: 0.0000e+00\nEpoch 210/300\n"
     ]
    },
    {
     "name": "stdout",
     "output_type": "stream",
     "text": [
      "66s - loss: 0.0026 - acc: 0.0000e+00\nEpoch 211/300\n"
     ]
    },
    {
     "name": "stdout",
     "output_type": "stream",
     "text": [
      "66s - loss: 0.0030 - acc: 0.0000e+00\nEpoch 212/300\n"
     ]
    },
    {
     "name": "stdout",
     "output_type": "stream",
     "text": [
      "66s - loss: 0.0028 - acc: 0.0000e+00\nEpoch 213/300\n"
     ]
    },
    {
     "name": "stdout",
     "output_type": "stream",
     "text": [
      "66s - loss: 0.0026 - acc: 0.0000e+00\nEpoch 214/300\n"
     ]
    },
    {
     "name": "stdout",
     "output_type": "stream",
     "text": [
      "66s - loss: 0.0027 - acc: 0.0000e+00\nEpoch 215/300\n"
     ]
    },
    {
     "name": "stdout",
     "output_type": "stream",
     "text": [
      "66s - loss: 0.0031 - acc: 0.0000e+00\nEpoch 216/300\n"
     ]
    },
    {
     "name": "stdout",
     "output_type": "stream",
     "text": [
      "66s - loss: 0.0026 - acc: 0.0000e+00\nEpoch 217/300\n"
     ]
    },
    {
     "name": "stdout",
     "output_type": "stream",
     "text": [
      "66s - loss: 0.0027 - acc: 0.0000e+00\nEpoch 218/300\n"
     ]
    },
    {
     "name": "stdout",
     "output_type": "stream",
     "text": [
      "66s - loss: 0.0026 - acc: 0.0000e+00\nEpoch 219/300\n"
     ]
    },
    {
     "name": "stdout",
     "output_type": "stream",
     "text": [
      "66s - loss: 0.0025 - acc: 0.0000e+00\nEpoch 220/300\n"
     ]
    },
    {
     "name": "stdout",
     "output_type": "stream",
     "text": [
      "66s - loss: 0.0026 - acc: 0.0000e+00\nEpoch 221/300\n"
     ]
    },
    {
     "name": "stdout",
     "output_type": "stream",
     "text": [
      "66s - loss: 0.0024 - acc: 0.0000e+00\nEpoch 222/300\n"
     ]
    },
    {
     "name": "stdout",
     "output_type": "stream",
     "text": [
      "66s - loss: 0.0023 - acc: 0.0000e+00\nEpoch 223/300\n"
     ]
    },
    {
     "name": "stdout",
     "output_type": "stream",
     "text": [
      "66s - loss: 0.0022 - acc: 0.0000e+00\nEpoch 224/300\n"
     ]
    },
    {
     "name": "stdout",
     "output_type": "stream",
     "text": [
      "66s - loss: 0.0024 - acc: 0.0000e+00\nEpoch 225/300\n"
     ]
    },
    {
     "name": "stdout",
     "output_type": "stream",
     "text": [
      "66s - loss: 0.0024 - acc: 0.0000e+00\nEpoch 226/300\n"
     ]
    },
    {
     "name": "stdout",
     "output_type": "stream",
     "text": [
      "66s - loss: 0.0026 - acc: 0.0000e+00\nEpoch 227/300\n"
     ]
    },
    {
     "name": "stdout",
     "output_type": "stream",
     "text": [
      "66s - loss: 0.0026 - acc: 0.0000e+00\nEpoch 228/300\n"
     ]
    },
    {
     "name": "stdout",
     "output_type": "stream",
     "text": [
      "66s - loss: 0.0025 - acc: 0.0000e+00\nEpoch 229/300\n"
     ]
    },
    {
     "name": "stdout",
     "output_type": "stream",
     "text": [
      "66s - loss: 0.0023 - acc: 0.0000e+00\nEpoch 230/300\n"
     ]
    },
    {
     "name": "stdout",
     "output_type": "stream",
     "text": [
      "66s - loss: 0.0023 - acc: 0.0000e+00\nEpoch 231/300\n"
     ]
    },
    {
     "name": "stdout",
     "output_type": "stream",
     "text": [
      "66s - loss: 0.0025 - acc: 0.0000e+00\nEpoch 232/300\n"
     ]
    },
    {
     "name": "stdout",
     "output_type": "stream",
     "text": [
      "66s - loss: 0.0022 - acc: 0.0000e+00\nEpoch 233/300\n"
     ]
    },
    {
     "name": "stdout",
     "output_type": "stream",
     "text": [
      "66s - loss: 0.0023 - acc: 0.0000e+00\nEpoch 234/300\n"
     ]
    },
    {
     "name": "stdout",
     "output_type": "stream",
     "text": [
      "66s - loss: 0.0023 - acc: 0.0000e+00\nEpoch 235/300\n"
     ]
    },
    {
     "name": "stdout",
     "output_type": "stream",
     "text": [
      "66s - loss: 0.0025 - acc: 0.0000e+00\nEpoch 236/300\n"
     ]
    },
    {
     "name": "stdout",
     "output_type": "stream",
     "text": [
      "66s - loss: 0.0021 - acc: 0.0000e+00\nEpoch 237/300\n"
     ]
    },
    {
     "name": "stdout",
     "output_type": "stream",
     "text": [
      "66s - loss: 0.0023 - acc: 0.0000e+00\nEpoch 238/300\n"
     ]
    },
    {
     "name": "stdout",
     "output_type": "stream",
     "text": [
      "66s - loss: 0.0022 - acc: 0.0000e+00\nEpoch 239/300\n"
     ]
    },
    {
     "name": "stdout",
     "output_type": "stream",
     "text": [
      "66s - loss: 0.0022 - acc: 0.0000e+00\nEpoch 240/300\n"
     ]
    },
    {
     "name": "stdout",
     "output_type": "stream",
     "text": [
      "66s - loss: 0.0022 - acc: 0.0000e+00\nEpoch 241/300\n"
     ]
    },
    {
     "name": "stdout",
     "output_type": "stream",
     "text": [
      "66s - loss: 0.0022 - acc: 0.0000e+00\nEpoch 242/300\n"
     ]
    },
    {
     "name": "stdout",
     "output_type": "stream",
     "text": [
      "66s - loss: 0.0021 - acc: 0.0000e+00\nEpoch 243/300\n"
     ]
    },
    {
     "name": "stdout",
     "output_type": "stream",
     "text": [
      "66s - loss: 0.0021 - acc: 0.0000e+00\nEpoch 244/300\n"
     ]
    },
    {
     "name": "stdout",
     "output_type": "stream",
     "text": [
      "66s - loss: 0.0020 - acc: 0.0000e+00\nEpoch 245/300\n"
     ]
    },
    {
     "name": "stdout",
     "output_type": "stream",
     "text": [
      "66s - loss: 0.0022 - acc: 0.0000e+00\nEpoch 246/300\n"
     ]
    },
    {
     "name": "stdout",
     "output_type": "stream",
     "text": [
      "66s - loss: 0.0020 - acc: 0.0000e+00\nEpoch 247/300\n"
     ]
    },
    {
     "name": "stdout",
     "output_type": "stream",
     "text": [
      "66s - loss: 0.0025 - acc: 0.0000e+00\nEpoch 248/300\n"
     ]
    },
    {
     "name": "stdout",
     "output_type": "stream",
     "text": [
      "66s - loss: 0.0021 - acc: 0.0000e+00\nEpoch 249/300\n"
     ]
    },
    {
     "name": "stdout",
     "output_type": "stream",
     "text": [
      "66s - loss: 0.0023 - acc: 0.0000e+00\nEpoch 250/300\n"
     ]
    },
    {
     "name": "stdout",
     "output_type": "stream",
     "text": [
      "66s - loss: 0.0020 - acc: 0.0000e+00\nEpoch 251/300\n"
     ]
    },
    {
     "name": "stdout",
     "output_type": "stream",
     "text": [
      "66s - loss: 0.0019 - acc: 0.0000e+00\nEpoch 252/300\n"
     ]
    },
    {
     "name": "stdout",
     "output_type": "stream",
     "text": [
      "66s - loss: 0.0019 - acc: 0.0000e+00\nEpoch 253/300\n"
     ]
    },
    {
     "name": "stdout",
     "output_type": "stream",
     "text": [
      "66s - loss: 0.0021 - acc: 0.0000e+00\nEpoch 254/300\n"
     ]
    },
    {
     "name": "stdout",
     "output_type": "stream",
     "text": [
      "66s - loss: 0.0018 - acc: 0.0000e+00\nEpoch 255/300\n"
     ]
    },
    {
     "name": "stdout",
     "output_type": "stream",
     "text": [
      "66s - loss: 0.0020 - acc: 0.0000e+00\nEpoch 256/300\n"
     ]
    },
    {
     "name": "stdout",
     "output_type": "stream",
     "text": [
      "66s - loss: 0.0021 - acc: 0.0000e+00\nEpoch 257/300\n"
     ]
    },
    {
     "name": "stdout",
     "output_type": "stream",
     "text": [
      "66s - loss: 0.0021 - acc: 0.0000e+00\nEpoch 258/300\n"
     ]
    },
    {
     "name": "stdout",
     "output_type": "stream",
     "text": [
      "66s - loss: 0.0018 - acc: 0.0000e+00\nEpoch 259/300\n"
     ]
    },
    {
     "name": "stdout",
     "output_type": "stream",
     "text": [
      "66s - loss: 0.0018 - acc: 0.0000e+00\nEpoch 260/300\n"
     ]
    },
    {
     "name": "stdout",
     "output_type": "stream",
     "text": [
      "66s - loss: 0.0019 - acc: 0.0000e+00\nEpoch 261/300\n"
     ]
    },
    {
     "name": "stdout",
     "output_type": "stream",
     "text": [
      "66s - loss: 0.0023 - acc: 0.0000e+00\nEpoch 262/300\n"
     ]
    },
    {
     "name": "stdout",
     "output_type": "stream",
     "text": [
      "66s - loss: 0.0020 - acc: 0.0000e+00\nEpoch 263/300\n"
     ]
    },
    {
     "name": "stdout",
     "output_type": "stream",
     "text": [
      "66s - loss: 0.0019 - acc: 0.0000e+00\nEpoch 264/300\n"
     ]
    },
    {
     "name": "stdout",
     "output_type": "stream",
     "text": [
      "66s - loss: 0.0020 - acc: 0.0000e+00\nEpoch 265/300\n"
     ]
    },
    {
     "name": "stdout",
     "output_type": "stream",
     "text": [
      "66s - loss: 0.0019 - acc: 0.0000e+00\nEpoch 266/300\n"
     ]
    },
    {
     "name": "stdout",
     "output_type": "stream",
     "text": [
      "66s - loss: 0.0018 - acc: 0.0000e+00\nEpoch 267/300\n"
     ]
    },
    {
     "name": "stdout",
     "output_type": "stream",
     "text": [
      "66s - loss: 0.0020 - acc: 0.0000e+00\nEpoch 268/300\n"
     ]
    },
    {
     "name": "stdout",
     "output_type": "stream",
     "text": [
      "66s - loss: 0.0018 - acc: 0.0000e+00\nEpoch 269/300\n"
     ]
    },
    {
     "name": "stdout",
     "output_type": "stream",
     "text": [
      "67s - loss: 0.0018 - acc: 0.0000e+00\nEpoch 270/300\n"
     ]
    },
    {
     "name": "stdout",
     "output_type": "stream",
     "text": [
      "66s - loss: 0.0017 - acc: 0.0000e+00\nEpoch 271/300\n"
     ]
    },
    {
     "name": "stdout",
     "output_type": "stream",
     "text": [
      "66s - loss: 0.0021 - acc: 0.0000e+00\nEpoch 272/300\n"
     ]
    },
    {
     "name": "stdout",
     "output_type": "stream",
     "text": [
      "66s - loss: 0.0017 - acc: 0.0000e+00\nEpoch 273/300\n"
     ]
    },
    {
     "name": "stdout",
     "output_type": "stream",
     "text": [
      "66s - loss: 0.0018 - acc: 0.0000e+00\nEpoch 274/300\n"
     ]
    },
    {
     "name": "stdout",
     "output_type": "stream",
     "text": [
      "66s - loss: 0.0018 - acc: 0.0000e+00\nEpoch 275/300\n"
     ]
    },
    {
     "name": "stdout",
     "output_type": "stream",
     "text": [
      "66s - loss: 0.0019 - acc: 0.0000e+00\nEpoch 276/300\n"
     ]
    },
    {
     "name": "stdout",
     "output_type": "stream",
     "text": [
      "66s - loss: 0.0016 - acc: 0.0000e+00\nEpoch 277/300\n"
     ]
    },
    {
     "name": "stdout",
     "output_type": "stream",
     "text": [
      "66s - loss: 0.0017 - acc: 0.0000e+00\nEpoch 278/300\n"
     ]
    },
    {
     "name": "stdout",
     "output_type": "stream",
     "text": [
      "66s - loss: 0.0017 - acc: 0.0000e+00\nEpoch 279/300\n"
     ]
    },
    {
     "name": "stdout",
     "output_type": "stream",
     "text": [
      "66s - loss: 0.0020 - acc: 0.0000e+00\nEpoch 280/300\n"
     ]
    },
    {
     "name": "stdout",
     "output_type": "stream",
     "text": [
      "66s - loss: 0.0016 - acc: 0.0000e+00\nEpoch 281/300\n"
     ]
    },
    {
     "name": "stdout",
     "output_type": "stream",
     "text": [
      "66s - loss: 0.0017 - acc: 0.0000e+00\nEpoch 282/300\n"
     ]
    },
    {
     "name": "stdout",
     "output_type": "stream",
     "text": [
      "66s - loss: 0.0018 - acc: 0.0000e+00\nEpoch 283/300\n"
     ]
    },
    {
     "name": "stdout",
     "output_type": "stream",
     "text": [
      "66s - loss: 0.0017 - acc: 0.0000e+00\nEpoch 284/300\n"
     ]
    },
    {
     "name": "stdout",
     "output_type": "stream",
     "text": [
      "66s - loss: 0.0017 - acc: 0.0000e+00\nEpoch 285/300\n"
     ]
    },
    {
     "name": "stdout",
     "output_type": "stream",
     "text": [
      "66s - loss: 0.0019 - acc: 0.0000e+00\nEpoch 286/300\n"
     ]
    },
    {
     "name": "stdout",
     "output_type": "stream",
     "text": [
      "66s - loss: 0.0016 - acc: 0.0000e+00\nEpoch 287/300\n"
     ]
    },
    {
     "name": "stdout",
     "output_type": "stream",
     "text": [
      "66s - loss: 0.0017 - acc: 0.0000e+00\nEpoch 288/300\n"
     ]
    },
    {
     "name": "stdout",
     "output_type": "stream",
     "text": [
      "66s - loss: 0.0015 - acc: 0.0000e+00\nEpoch 289/300\n"
     ]
    },
    {
     "name": "stdout",
     "output_type": "stream",
     "text": [
      "66s - loss: 0.0018 - acc: 0.0000e+00\nEpoch 290/300\n"
     ]
    },
    {
     "name": "stdout",
     "output_type": "stream",
     "text": [
      "66s - loss: 0.0018 - acc: 0.0000e+00\nEpoch 291/300\n"
     ]
    },
    {
     "name": "stdout",
     "output_type": "stream",
     "text": [
      "66s - loss: 0.0018 - acc: 0.0000e+00\nEpoch 292/300\n"
     ]
    },
    {
     "name": "stdout",
     "output_type": "stream",
     "text": [
      "66s - loss: 0.0017 - acc: 0.0000e+00\nEpoch 293/300\n"
     ]
    },
    {
     "name": "stdout",
     "output_type": "stream",
     "text": [
      "66s - loss: 0.0016 - acc: 0.0000e+00\nEpoch 294/300\n"
     ]
    },
    {
     "name": "stdout",
     "output_type": "stream",
     "text": [
      "66s - loss: 0.0017 - acc: 0.0000e+00\nEpoch 295/300\n"
     ]
    },
    {
     "name": "stdout",
     "output_type": "stream",
     "text": [
      "66s - loss: 0.0017 - acc: 0.0000e+00\nEpoch 296/300\n"
     ]
    },
    {
     "name": "stdout",
     "output_type": "stream",
     "text": [
      "66s - loss: 0.0016 - acc: 0.0000e+00\nEpoch 297/300\n"
     ]
    },
    {
     "name": "stdout",
     "output_type": "stream",
     "text": [
      "66s - loss: 0.0016 - acc: 0.0000e+00\nEpoch 298/300\n"
     ]
    },
    {
     "name": "stdout",
     "output_type": "stream",
     "text": [
      "66s - loss: 0.0018 - acc: 0.0000e+00\nEpoch 299/300\n"
     ]
    },
    {
     "name": "stdout",
     "output_type": "stream",
     "text": [
      "66s - loss: 0.0016 - acc: 0.0000e+00\nEpoch 300/300\n"
     ]
    },
    {
     "name": "stdout",
     "output_type": "stream",
     "text": [
      "66s - loss: 0.0015 - acc: 0.0000e+00\nSaving model lb30_e300_lvl_16_4_op_rmsprop_model.h5\n"
     ]
    },
    {
     "name": "stdout",
     "output_type": "stream",
     "text": [
      "Preparing data with look back 30\nNo of rows loaded 999\n"
     ]
    },
    {
     "name": "stdout",
     "output_type": "stream",
     "text": [
      "Epoch 1/300\n"
     ]
    },
    {
     "name": "stdout",
     "output_type": "stream",
     "text": [
      "67s - loss: 0.0236 - acc: 0.0000e+00\nEpoch 2/300\n"
     ]
    },
    {
     "name": "stdout",
     "output_type": "stream",
     "text": [
      "66s - loss: 0.0235 - acc: 0.0000e+00\nEpoch 3/300\n"
     ]
    },
    {
     "name": "stdout",
     "output_type": "stream",
     "text": [
      "66s - loss: 0.0236 - acc: 0.0000e+00\nEpoch 4/300\n"
     ]
    },
    {
     "name": "stdout",
     "output_type": "stream",
     "text": [
      "66s - loss: 0.0236 - acc: 0.0000e+00\nEpoch 5/300\n"
     ]
    },
    {
     "name": "stdout",
     "output_type": "stream",
     "text": [
      "66s - loss: 0.0235 - acc: 0.0000e+00\nEpoch 6/300\n"
     ]
    },
    {
     "name": "stdout",
     "output_type": "stream",
     "text": [
      "66s - loss: 0.0235 - acc: 0.0000e+00\nEpoch 7/300\n"
     ]
    },
    {
     "name": "stdout",
     "output_type": "stream",
     "text": [
      "66s - loss: 0.0236 - acc: 0.0000e+00\nEpoch 8/300\n"
     ]
    },
    {
     "name": "stdout",
     "output_type": "stream",
     "text": [
      "66s - loss: 0.0236 - acc: 0.0000e+00\nEpoch 9/300\n"
     ]
    },
    {
     "name": "stdout",
     "output_type": "stream",
     "text": [
      "66s - loss: 0.0235 - acc: 0.0000e+00\nEpoch 10/300\n"
     ]
    },
    {
     "name": "stdout",
     "output_type": "stream",
     "text": [
      "66s - loss: 0.0236 - acc: 0.0000e+00\nEpoch 11/300\n"
     ]
    },
    {
     "name": "stdout",
     "output_type": "stream",
     "text": [
      "66s - loss: 0.0236 - acc: 0.0000e+00\nEpoch 12/300\n"
     ]
    },
    {
     "name": "stdout",
     "output_type": "stream",
     "text": [
      "66s - loss: 0.0236 - acc: 0.0000e+00\nEpoch 13/300\n"
     ]
    },
    {
     "name": "stdout",
     "output_type": "stream",
     "text": [
      "66s - loss: 0.0235 - acc: 0.0000e+00\nEpoch 14/300\n"
     ]
    },
    {
     "name": "stdout",
     "output_type": "stream",
     "text": [
      "66s - loss: 0.0236 - acc: 0.0000e+00\nEpoch 15/300\n"
     ]
    },
    {
     "name": "stdout",
     "output_type": "stream",
     "text": [
      "66s - loss: 0.0235 - acc: 0.0000e+00\nEpoch 16/300\n"
     ]
    },
    {
     "name": "stdout",
     "output_type": "stream",
     "text": [
      "66s - loss: 0.0236 - acc: 0.0000e+00\nEpoch 17/300\n"
     ]
    },
    {
     "name": "stdout",
     "output_type": "stream",
     "text": [
      "66s - loss: 0.0236 - acc: 0.0000e+00\nEpoch 18/300\n"
     ]
    },
    {
     "name": "stdout",
     "output_type": "stream",
     "text": [
      "66s - loss: 0.0235 - acc: 0.0000e+00\nEpoch 19/300\n"
     ]
    },
    {
     "name": "stdout",
     "output_type": "stream",
     "text": [
      "66s - loss: 0.0235 - acc: 0.0000e+00\nEpoch 20/300\n"
     ]
    },
    {
     "name": "stdout",
     "output_type": "stream",
     "text": [
      "66s - loss: 0.0236 - acc: 0.0000e+00\nEpoch 21/300\n"
     ]
    },
    {
     "name": "stdout",
     "output_type": "stream",
     "text": [
      "66s - loss: 0.0235 - acc: 0.0000e+00\nEpoch 22/300\n"
     ]
    },
    {
     "name": "stdout",
     "output_type": "stream",
     "text": [
      "66s - loss: 0.0236 - acc: 0.0000e+00\nEpoch 23/300\n"
     ]
    },
    {
     "name": "stdout",
     "output_type": "stream",
     "text": [
      "66s - loss: 0.0235 - acc: 0.0000e+00\nEpoch 24/300\n"
     ]
    },
    {
     "name": "stdout",
     "output_type": "stream",
     "text": [
      "66s - loss: 0.0237 - acc: 0.0000e+00\nEpoch 25/300\n"
     ]
    },
    {
     "name": "stdout",
     "output_type": "stream",
     "text": [
      "66s - loss: 0.0236 - acc: 0.0000e+00\nEpoch 26/300\n"
     ]
    },
    {
     "name": "stdout",
     "output_type": "stream",
     "text": [
      "66s - loss: 0.0236 - acc: 0.0000e+00\nEpoch 27/300\n"
     ]
    },
    {
     "name": "stdout",
     "output_type": "stream",
     "text": [
      "66s - loss: 0.0236 - acc: 0.0000e+00\nEpoch 28/300\n"
     ]
    },
    {
     "name": "stdout",
     "output_type": "stream",
     "text": [
      "66s - loss: 0.0236 - acc: 0.0000e+00\nEpoch 29/300\n"
     ]
    },
    {
     "name": "stdout",
     "output_type": "stream",
     "text": [
      "66s - loss: 0.0236 - acc: 0.0000e+00\nEpoch 30/300\n"
     ]
    },
    {
     "name": "stdout",
     "output_type": "stream",
     "text": [
      "66s - loss: 0.0236 - acc: 0.0000e+00\nEpoch 31/300\n"
     ]
    },
    {
     "name": "stdout",
     "output_type": "stream",
     "text": [
      "66s - loss: 0.0235 - acc: 0.0000e+00\nEpoch 32/300\n"
     ]
    },
    {
     "name": "stdout",
     "output_type": "stream",
     "text": [
      "66s - loss: 0.0236 - acc: 0.0000e+00\nEpoch 33/300\n"
     ]
    },
    {
     "name": "stdout",
     "output_type": "stream",
     "text": [
      "66s - loss: 0.0236 - acc: 0.0000e+00\nEpoch 34/300\n"
     ]
    },
    {
     "name": "stdout",
     "output_type": "stream",
     "text": [
      "66s - loss: 0.0236 - acc: 0.0000e+00\nEpoch 35/300\n"
     ]
    },
    {
     "name": "stdout",
     "output_type": "stream",
     "text": [
      "66s - loss: 0.0234 - acc: 0.0000e+00\nEpoch 36/300\n"
     ]
    },
    {
     "name": "stdout",
     "output_type": "stream",
     "text": [
      "66s - loss: 0.0236 - acc: 0.0000e+00\nEpoch 37/300\n"
     ]
    },
    {
     "name": "stdout",
     "output_type": "stream",
     "text": [
      "66s - loss: 0.0235 - acc: 0.0000e+00\nEpoch 38/300\n"
     ]
    },
    {
     "name": "stdout",
     "output_type": "stream",
     "text": [
      "66s - loss: 0.0236 - acc: 0.0000e+00\nEpoch 39/300\n"
     ]
    },
    {
     "name": "stdout",
     "output_type": "stream",
     "text": [
      "66s - loss: 0.0236 - acc: 0.0000e+00\nEpoch 40/300\n"
     ]
    },
    {
     "name": "stdout",
     "output_type": "stream",
     "text": [
      "66s - loss: 0.0236 - acc: 0.0000e+00\nEpoch 41/300\n"
     ]
    },
    {
     "name": "stdout",
     "output_type": "stream",
     "text": [
      "67s - loss: 0.0236 - acc: 0.0000e+00\nEpoch 42/300\n"
     ]
    },
    {
     "name": "stdout",
     "output_type": "stream",
     "text": [
      "66s - loss: 0.0235 - acc: 0.0000e+00\nEpoch 43/300\n"
     ]
    },
    {
     "name": "stdout",
     "output_type": "stream",
     "text": [
      "66s - loss: 0.0236 - acc: 0.0000e+00\nEpoch 44/300\n"
     ]
    },
    {
     "name": "stdout",
     "output_type": "stream",
     "text": [
      "66s - loss: 0.0236 - acc: 0.0000e+00\nEpoch 45/300\n"
     ]
    },
    {
     "name": "stdout",
     "output_type": "stream",
     "text": [
      "66s - loss: 0.0235 - acc: 0.0000e+00\nEpoch 46/300\n"
     ]
    },
    {
     "name": "stdout",
     "output_type": "stream",
     "text": [
      "66s - loss: 0.0236 - acc: 0.0000e+00\nEpoch 47/300\n"
     ]
    },
    {
     "name": "stdout",
     "output_type": "stream",
     "text": [
      "66s - loss: 0.0236 - acc: 0.0000e+00\nEpoch 48/300\n"
     ]
    },
    {
     "name": "stdout",
     "output_type": "stream",
     "text": [
      "66s - loss: 0.0236 - acc: 0.0000e+00\nEpoch 49/300\n"
     ]
    },
    {
     "name": "stdout",
     "output_type": "stream",
     "text": [
      "66s - loss: 0.0236 - acc: 0.0000e+00\nEpoch 50/300\n"
     ]
    },
    {
     "name": "stdout",
     "output_type": "stream",
     "text": [
      "66s - loss: 0.0235 - acc: 0.0000e+00\nEpoch 51/300\n"
     ]
    },
    {
     "name": "stdout",
     "output_type": "stream",
     "text": [
      "66s - loss: 0.0235 - acc: 0.0000e+00\nEpoch 52/300\n"
     ]
    },
    {
     "name": "stdout",
     "output_type": "stream",
     "text": [
      "66s - loss: 0.0236 - acc: 0.0000e+00\nEpoch 53/300\n"
     ]
    },
    {
     "name": "stdout",
     "output_type": "stream",
     "text": [
      "66s - loss: 0.0236 - acc: 0.0000e+00\nEpoch 54/300\n"
     ]
    },
    {
     "name": "stdout",
     "output_type": "stream",
     "text": [
      "66s - loss: 0.0236 - acc: 0.0000e+00\nEpoch 55/300\n"
     ]
    },
    {
     "name": "stdout",
     "output_type": "stream",
     "text": [
      "66s - loss: 0.0236 - acc: 0.0000e+00\nEpoch 56/300\n"
     ]
    },
    {
     "name": "stdout",
     "output_type": "stream",
     "text": [
      "66s - loss: 0.0236 - acc: 0.0000e+00\nEpoch 57/300\n"
     ]
    },
    {
     "name": "stdout",
     "output_type": "stream",
     "text": [
      "66s - loss: 0.0235 - acc: 0.0000e+00\nEpoch 58/300\n"
     ]
    },
    {
     "name": "stdout",
     "output_type": "stream",
     "text": [
      "66s - loss: 0.0236 - acc: 0.0000e+00\nEpoch 59/300\n"
     ]
    },
    {
     "name": "stdout",
     "output_type": "stream",
     "text": [
      "66s - loss: 0.0236 - acc: 0.0000e+00\nEpoch 60/300\n"
     ]
    },
    {
     "name": "stdout",
     "output_type": "stream",
     "text": [
      "66s - loss: 0.0236 - acc: 0.0000e+00\nEpoch 61/300\n"
     ]
    },
    {
     "name": "stdout",
     "output_type": "stream",
     "text": [
      "66s - loss: 0.0236 - acc: 0.0000e+00\nEpoch 62/300\n"
     ]
    },
    {
     "name": "stdout",
     "output_type": "stream",
     "text": [
      "66s - loss: 0.0235 - acc: 0.0000e+00\nEpoch 63/300\n"
     ]
    },
    {
     "name": "stdout",
     "output_type": "stream",
     "text": [
      "66s - loss: 0.0236 - acc: 0.0000e+00\nEpoch 64/300\n"
     ]
    },
    {
     "name": "stdout",
     "output_type": "stream",
     "text": [
      "66s - loss: 0.0236 - acc: 0.0000e+00\nEpoch 65/300\n"
     ]
    },
    {
     "name": "stdout",
     "output_type": "stream",
     "text": [
      "66s - loss: 0.0236 - acc: 0.0000e+00\nEpoch 66/300\n"
     ]
    },
    {
     "name": "stdout",
     "output_type": "stream",
     "text": [
      "66s - loss: 0.0236 - acc: 0.0000e+00\nEpoch 67/300\n"
     ]
    },
    {
     "name": "stdout",
     "output_type": "stream",
     "text": [
      "66s - loss: 0.0236 - acc: 0.0000e+00\nEpoch 68/300\n"
     ]
    },
    {
     "name": "stdout",
     "output_type": "stream",
     "text": [
      "66s - loss: 0.0236 - acc: 0.0000e+00\nEpoch 69/300\n"
     ]
    },
    {
     "name": "stdout",
     "output_type": "stream",
     "text": [
      "66s - loss: 0.0236 - acc: 0.0000e+00\nEpoch 70/300\n"
     ]
    },
    {
     "name": "stdout",
     "output_type": "stream",
     "text": [
      "66s - loss: 0.0236 - acc: 0.0000e+00\nEpoch 71/300\n"
     ]
    },
    {
     "name": "stdout",
     "output_type": "stream",
     "text": [
      "66s - loss: 0.0236 - acc: 0.0000e+00\nEpoch 72/300\n"
     ]
    },
    {
     "name": "stdout",
     "output_type": "stream",
     "text": [
      "66s - loss: 0.0236 - acc: 0.0000e+00\nEpoch 73/300\n"
     ]
    },
    {
     "name": "stdout",
     "output_type": "stream",
     "text": [
      "66s - loss: 0.0236 - acc: 0.0000e+00\nEpoch 74/300\n"
     ]
    },
    {
     "name": "stdout",
     "output_type": "stream",
     "text": [
      "66s - loss: 0.0235 - acc: 0.0000e+00\nEpoch 75/300\n"
     ]
    },
    {
     "name": "stdout",
     "output_type": "stream",
     "text": [
      "66s - loss: 0.0236 - acc: 0.0000e+00\nEpoch 76/300\n"
     ]
    },
    {
     "name": "stdout",
     "output_type": "stream",
     "text": [
      "66s - loss: 0.0236 - acc: 0.0000e+00\nEpoch 77/300\n"
     ]
    },
    {
     "name": "stdout",
     "output_type": "stream",
     "text": [
      "66s - loss: 0.0236 - acc: 0.0000e+00\nEpoch 78/300\n"
     ]
    },
    {
     "name": "stdout",
     "output_type": "stream",
     "text": [
      "66s - loss: 0.0236 - acc: 0.0000e+00\nEpoch 79/300\n"
     ]
    },
    {
     "name": "stdout",
     "output_type": "stream",
     "text": [
      "66s - loss: 0.0236 - acc: 0.0000e+00\nEpoch 80/300\n"
     ]
    },
    {
     "name": "stdout",
     "output_type": "stream",
     "text": [
      "66s - loss: 0.0236 - acc: 0.0000e+00\nEpoch 81/300\n"
     ]
    },
    {
     "name": "stdout",
     "output_type": "stream",
     "text": [
      "66s - loss: 0.0236 - acc: 0.0000e+00\nEpoch 82/300\n"
     ]
    },
    {
     "name": "stdout",
     "output_type": "stream",
     "text": [
      "66s - loss: 0.0236 - acc: 0.0000e+00\nEpoch 83/300\n"
     ]
    },
    {
     "name": "stdout",
     "output_type": "stream",
     "text": [
      "66s - loss: 0.0235 - acc: 0.0000e+00\nEpoch 84/300\n"
     ]
    },
    {
     "name": "stdout",
     "output_type": "stream",
     "text": [
      "66s - loss: 0.0236 - acc: 0.0000e+00\nEpoch 85/300\n"
     ]
    },
    {
     "name": "stdout",
     "output_type": "stream",
     "text": [
      "66s - loss: 0.0236 - acc: 0.0000e+00\nEpoch 86/300\n"
     ]
    },
    {
     "name": "stdout",
     "output_type": "stream",
     "text": [
      "66s - loss: 0.0235 - acc: 0.0000e+00\nEpoch 87/300\n"
     ]
    },
    {
     "name": "stdout",
     "output_type": "stream",
     "text": [
      "66s - loss: 0.0236 - acc: 0.0000e+00\nEpoch 88/300\n"
     ]
    },
    {
     "name": "stdout",
     "output_type": "stream",
     "text": [
      "66s - loss: 0.0236 - acc: 0.0000e+00\nEpoch 89/300\n"
     ]
    },
    {
     "name": "stdout",
     "output_type": "stream",
     "text": [
      "66s - loss: 0.0236 - acc: 0.0000e+00\nEpoch 90/300\n"
     ]
    },
    {
     "name": "stdout",
     "output_type": "stream",
     "text": [
      "66s - loss: 0.0236 - acc: 0.0000e+00\nEpoch 91/300\n"
     ]
    },
    {
     "name": "stdout",
     "output_type": "stream",
     "text": [
      "66s - loss: 0.0236 - acc: 0.0000e+00\nEpoch 92/300\n"
     ]
    },
    {
     "name": "stdout",
     "output_type": "stream",
     "text": [
      "66s - loss: 0.0236 - acc: 0.0000e+00\nEpoch 93/300\n"
     ]
    },
    {
     "name": "stdout",
     "output_type": "stream",
     "text": [
      "66s - loss: 0.0236 - acc: 0.0000e+00\nEpoch 94/300\n"
     ]
    },
    {
     "name": "stdout",
     "output_type": "stream",
     "text": [
      "66s - loss: 0.0235 - acc: 0.0000e+00\nEpoch 95/300\n"
     ]
    },
    {
     "name": "stdout",
     "output_type": "stream",
     "text": [
      "67s - loss: 0.0236 - acc: 0.0000e+00\nEpoch 96/300\n"
     ]
    },
    {
     "name": "stdout",
     "output_type": "stream",
     "text": [
      "66s - loss: 0.0235 - acc: 0.0000e+00\nEpoch 97/300\n"
     ]
    },
    {
     "name": "stdout",
     "output_type": "stream",
     "text": [
      "66s - loss: 0.0236 - acc: 0.0000e+00\nEpoch 98/300\n"
     ]
    },
    {
     "name": "stdout",
     "output_type": "stream",
     "text": [
      "66s - loss: 0.0235 - acc: 0.0000e+00\nEpoch 99/300\n"
     ]
    },
    {
     "name": "stdout",
     "output_type": "stream",
     "text": [
      "66s - loss: 0.0236 - acc: 0.0000e+00\nEpoch 100/300\n"
     ]
    },
    {
     "name": "stdout",
     "output_type": "stream",
     "text": [
      "66s - loss: 0.0236 - acc: 0.0000e+00\nEpoch 101/300\n"
     ]
    },
    {
     "name": "stdout",
     "output_type": "stream",
     "text": [
      "66s - loss: 0.0236 - acc: 0.0000e+00\nEpoch 102/300\n"
     ]
    },
    {
     "name": "stdout",
     "output_type": "stream",
     "text": [
      "66s - loss: 0.0236 - acc: 0.0000e+00\nEpoch 103/300\n"
     ]
    },
    {
     "name": "stdout",
     "output_type": "stream",
     "text": [
      "66s - loss: 0.0236 - acc: 0.0000e+00\nEpoch 104/300\n"
     ]
    },
    {
     "name": "stdout",
     "output_type": "stream",
     "text": [
      "66s - loss: 0.0236 - acc: 0.0000e+00\nEpoch 105/300\n"
     ]
    },
    {
     "name": "stdout",
     "output_type": "stream",
     "text": [
      "66s - loss: 0.0236 - acc: 0.0000e+00\nEpoch 106/300\n"
     ]
    },
    {
     "name": "stdout",
     "output_type": "stream",
     "text": [
      "66s - loss: 0.0236 - acc: 0.0000e+00\nEpoch 107/300\n"
     ]
    },
    {
     "name": "stdout",
     "output_type": "stream",
     "text": [
      "66s - loss: 0.0236 - acc: 0.0000e+00\nEpoch 108/300\n"
     ]
    },
    {
     "name": "stdout",
     "output_type": "stream",
     "text": [
      "66s - loss: 0.0236 - acc: 0.0000e+00\nEpoch 109/300\n"
     ]
    },
    {
     "name": "stdout",
     "output_type": "stream",
     "text": [
      "66s - loss: 0.0236 - acc: 0.0000e+00\nEpoch 110/300\n"
     ]
    },
    {
     "name": "stdout",
     "output_type": "stream",
     "text": [
      "66s - loss: 0.0236 - acc: 0.0000e+00\nEpoch 111/300\n"
     ]
    },
    {
     "name": "stdout",
     "output_type": "stream",
     "text": [
      "66s - loss: 0.0236 - acc: 0.0000e+00\nEpoch 112/300\n"
     ]
    },
    {
     "name": "stdout",
     "output_type": "stream",
     "text": [
      "66s - loss: 0.0235 - acc: 0.0000e+00\nEpoch 113/300\n"
     ]
    },
    {
     "name": "stdout",
     "output_type": "stream",
     "text": [
      "66s - loss: 0.0236 - acc: 0.0000e+00\nEpoch 114/300\n"
     ]
    },
    {
     "name": "stdout",
     "output_type": "stream",
     "text": [
      "66s - loss: 0.0235 - acc: 0.0000e+00\nEpoch 115/300\n"
     ]
    },
    {
     "name": "stdout",
     "output_type": "stream",
     "text": [
      "66s - loss: 0.0235 - acc: 0.0000e+00\nEpoch 116/300\n"
     ]
    },
    {
     "name": "stdout",
     "output_type": "stream",
     "text": [
      "66s - loss: 0.0235 - acc: 0.0000e+00\nEpoch 117/300\n"
     ]
    },
    {
     "name": "stdout",
     "output_type": "stream",
     "text": [
      "66s - loss: 0.0236 - acc: 0.0000e+00\nEpoch 118/300\n"
     ]
    },
    {
     "name": "stdout",
     "output_type": "stream",
     "text": [
      "66s - loss: 0.0236 - acc: 0.0000e+00\nEpoch 119/300\n"
     ]
    },
    {
     "name": "stdout",
     "output_type": "stream",
     "text": [
      "66s - loss: 0.0236 - acc: 0.0000e+00\nEpoch 120/300\n"
     ]
    },
    {
     "name": "stdout",
     "output_type": "stream",
     "text": [
      "66s - loss: 0.0236 - acc: 0.0000e+00\nEpoch 121/300\n"
     ]
    },
    {
     "name": "stdout",
     "output_type": "stream",
     "text": [
      "66s - loss: 0.0236 - acc: 0.0000e+00\nEpoch 122/300\n"
     ]
    },
    {
     "name": "stdout",
     "output_type": "stream",
     "text": [
      "66s - loss: 0.0236 - acc: 0.0000e+00\nEpoch 123/300\n"
     ]
    },
    {
     "name": "stdout",
     "output_type": "stream",
     "text": [
      "66s - loss: 0.0236 - acc: 0.0000e+00\nEpoch 124/300\n"
     ]
    },
    {
     "name": "stdout",
     "output_type": "stream",
     "text": [
      "66s - loss: 0.0236 - acc: 0.0000e+00\nEpoch 125/300\n"
     ]
    },
    {
     "name": "stdout",
     "output_type": "stream",
     "text": [
      "66s - loss: 0.0236 - acc: 0.0000e+00\nEpoch 126/300\n"
     ]
    },
    {
     "name": "stdout",
     "output_type": "stream",
     "text": [
      "66s - loss: 0.0236 - acc: 0.0000e+00\nEpoch 127/300\n"
     ]
    },
    {
     "name": "stdout",
     "output_type": "stream",
     "text": [
      "66s - loss: 0.0236 - acc: 0.0000e+00\nEpoch 128/300\n"
     ]
    },
    {
     "name": "stdout",
     "output_type": "stream",
     "text": [
      "66s - loss: 0.0235 - acc: 0.0000e+00\nEpoch 129/300\n"
     ]
    },
    {
     "name": "stdout",
     "output_type": "stream",
     "text": [
      "66s - loss: 0.0236 - acc: 0.0000e+00\nEpoch 130/300\n"
     ]
    },
    {
     "name": "stdout",
     "output_type": "stream",
     "text": [
      "66s - loss: 0.0236 - acc: 0.0000e+00\nEpoch 131/300\n"
     ]
    },
    {
     "name": "stdout",
     "output_type": "stream",
     "text": [
      "66s - loss: 0.0235 - acc: 0.0000e+00\nEpoch 132/300\n"
     ]
    },
    {
     "name": "stdout",
     "output_type": "stream",
     "text": [
      "66s - loss: 0.0236 - acc: 0.0000e+00\nEpoch 133/300\n"
     ]
    },
    {
     "name": "stdout",
     "output_type": "stream",
     "text": [
      "68s - loss: 0.0236 - acc: 0.0000e+00\nEpoch 134/300\n"
     ]
    },
    {
     "name": "stdout",
     "output_type": "stream",
     "text": [
      "70s - loss: 0.0236 - acc: 0.0000e+00\nEpoch 135/300\n"
     ]
    },
    {
     "name": "stdout",
     "output_type": "stream",
     "text": [
      "74s - loss: 0.0236 - acc: 0.0000e+00\nEpoch 136/300\n"
     ]
    },
    {
     "name": "stdout",
     "output_type": "stream",
     "text": [
      "68s - loss: 0.0235 - acc: 0.0000e+00\nEpoch 137/300\n"
     ]
    },
    {
     "name": "stdout",
     "output_type": "stream",
     "text": [
      "73s - loss: 0.0236 - acc: 0.0000e+00\nEpoch 138/300\n"
     ]
    },
    {
     "name": "stdout",
     "output_type": "stream",
     "text": [
      "69s - loss: 0.0236 - acc: 0.0000e+00\nEpoch 139/300\n"
     ]
    },
    {
     "name": "stdout",
     "output_type": "stream",
     "text": [
      "70s - loss: 0.0236 - acc: 0.0000e+00\nEpoch 140/300\n"
     ]
    },
    {
     "name": "stdout",
     "output_type": "stream",
     "text": [
      "68s - loss: 0.0236 - acc: 0.0000e+00\nEpoch 141/300\n"
     ]
    },
    {
     "name": "stdout",
     "output_type": "stream",
     "text": [
      "69s - loss: 0.0236 - acc: 0.0000e+00\nEpoch 142/300\n"
     ]
    },
    {
     "name": "stdout",
     "output_type": "stream",
     "text": [
      "68s - loss: 0.0235 - acc: 0.0000e+00\nEpoch 143/300\n"
     ]
    },
    {
     "name": "stdout",
     "output_type": "stream",
     "text": [
      "66s - loss: 0.0236 - acc: 0.0000e+00\nEpoch 144/300\n"
     ]
    },
    {
     "name": "stdout",
     "output_type": "stream",
     "text": [
      "66s - loss: 0.0236 - acc: 0.0000e+00\nEpoch 145/300\n"
     ]
    },
    {
     "name": "stdout",
     "output_type": "stream",
     "text": [
      "69s - loss: 0.0236 - acc: 0.0000e+00\nEpoch 146/300\n"
     ]
    },
    {
     "name": "stdout",
     "output_type": "stream",
     "text": [
      "70s - loss: 0.0236 - acc: 0.0000e+00\nEpoch 147/300\n"
     ]
    },
    {
     "name": "stdout",
     "output_type": "stream",
     "text": [
      "67s - loss: 0.0236 - acc: 0.0000e+00\nEpoch 148/300\n"
     ]
    },
    {
     "name": "stdout",
     "output_type": "stream",
     "text": [
      "67s - loss: 0.0236 - acc: 0.0000e+00\nEpoch 149/300\n"
     ]
    },
    {
     "name": "stdout",
     "output_type": "stream",
     "text": [
      "67s - loss: 0.0234 - acc: 0.0000e+00\nEpoch 150/300\n"
     ]
    },
    {
     "name": "stdout",
     "output_type": "stream",
     "text": [
      "67s - loss: 0.0236 - acc: 0.0000e+00\nEpoch 151/300\n"
     ]
    },
    {
     "name": "stdout",
     "output_type": "stream",
     "text": [
      "67s - loss: 0.0236 - acc: 0.0000e+00\nEpoch 152/300\n"
     ]
    },
    {
     "name": "stdout",
     "output_type": "stream",
     "text": [
      "67s - loss: 0.0235 - acc: 0.0000e+00\nEpoch 153/300\n"
     ]
    },
    {
     "name": "stdout",
     "output_type": "stream",
     "text": [
      "67s - loss: 0.0236 - acc: 0.0000e+00\nEpoch 154/300\n"
     ]
    },
    {
     "name": "stdout",
     "output_type": "stream",
     "text": [
      "70s - loss: 0.0236 - acc: 0.0000e+00\nEpoch 155/300\n"
     ]
    },
    {
     "name": "stdout",
     "output_type": "stream",
     "text": [
      "68s - loss: 0.0234 - acc: 0.0000e+00\nEpoch 156/300\n"
     ]
    },
    {
     "name": "stdout",
     "output_type": "stream",
     "text": [
      "68s - loss: 0.0236 - acc: 0.0000e+00\nEpoch 157/300\n"
     ]
    },
    {
     "name": "stdout",
     "output_type": "stream",
     "text": [
      "67s - loss: 0.0235 - acc: 0.0000e+00\nEpoch 158/300\n"
     ]
    },
    {
     "name": "stdout",
     "output_type": "stream",
     "text": [
      "69s - loss: 0.0236 - acc: 0.0000e+00\nEpoch 159/300\n"
     ]
    },
    {
     "name": "stdout",
     "output_type": "stream",
     "text": [
      "70s - loss: 0.0236 - acc: 0.0000e+00\nEpoch 160/300\n"
     ]
    },
    {
     "name": "stdout",
     "output_type": "stream",
     "text": [
      "69s - loss: 0.0235 - acc: 0.0000e+00\nEpoch 161/300\n"
     ]
    },
    {
     "name": "stdout",
     "output_type": "stream",
     "text": [
      "68s - loss: 0.0235 - acc: 0.0000e+00\nEpoch 162/300\n"
     ]
    },
    {
     "name": "stdout",
     "output_type": "stream",
     "text": [
      "68s - loss: 0.0236 - acc: 0.0000e+00\nEpoch 163/300\n"
     ]
    },
    {
     "name": "stdout",
     "output_type": "stream",
     "text": [
      "69s - loss: 0.0235 - acc: 0.0000e+00\nEpoch 164/300\n"
     ]
    },
    {
     "name": "stdout",
     "output_type": "stream",
     "text": [
      "68s - loss: 0.0236 - acc: 0.0000e+00\nEpoch 165/300\n"
     ]
    },
    {
     "name": "stdout",
     "output_type": "stream",
     "text": [
      "67s - loss: 0.0235 - acc: 0.0000e+00\nEpoch 166/300\n"
     ]
    },
    {
     "name": "stdout",
     "output_type": "stream",
     "text": [
      "67s - loss: 0.0236 - acc: 0.0000e+00\nEpoch 167/300\n"
     ]
    },
    {
     "name": "stdout",
     "output_type": "stream",
     "text": [
      "67s - loss: 0.0235 - acc: 0.0000e+00\nEpoch 168/300\n"
     ]
    },
    {
     "name": "stdout",
     "output_type": "stream",
     "text": [
      "68s - loss: 0.0235 - acc: 0.0000e+00\nEpoch 169/300\n"
     ]
    },
    {
     "name": "stdout",
     "output_type": "stream",
     "text": [
      "69s - loss: 0.0236 - acc: 0.0000e+00\nEpoch 170/300\n"
     ]
    },
    {
     "name": "stdout",
     "output_type": "stream",
     "text": [
      "70s - loss: 0.0235 - acc: 0.0000e+00\nEpoch 171/300\n"
     ]
    },
    {
     "name": "stdout",
     "output_type": "stream",
     "text": [
      "69s - loss: 0.0236 - acc: 0.0000e+00\nEpoch 172/300\n"
     ]
    },
    {
     "name": "stdout",
     "output_type": "stream",
     "text": [
      "69s - loss: 0.0236 - acc: 0.0000e+00\nEpoch 173/300\n"
     ]
    },
    {
     "name": "stdout",
     "output_type": "stream",
     "text": [
      "68s - loss: 0.0236 - acc: 0.0000e+00\nEpoch 174/300\n"
     ]
    },
    {
     "name": "stdout",
     "output_type": "stream",
     "text": [
      "69s - loss: 0.0236 - acc: 0.0000e+00\nEpoch 175/300\n"
     ]
    },
    {
     "name": "stdout",
     "output_type": "stream",
     "text": [
      "68s - loss: 0.0236 - acc: 0.0000e+00\nEpoch 176/300\n"
     ]
    },
    {
     "name": "stdout",
     "output_type": "stream",
     "text": [
      "69s - loss: 0.0236 - acc: 0.0000e+00\nEpoch 177/300\n"
     ]
    },
    {
     "name": "stdout",
     "output_type": "stream",
     "text": [
      "69s - loss: 0.0236 - acc: 0.0000e+00\nEpoch 178/300\n"
     ]
    },
    {
     "name": "stdout",
     "output_type": "stream",
     "text": [
      "67s - loss: 0.0235 - acc: 0.0000e+00\nEpoch 179/300\n"
     ]
    },
    {
     "name": "stdout",
     "output_type": "stream",
     "text": [
      "68s - loss: 0.0236 - acc: 0.0000e+00\nEpoch 180/300\n"
     ]
    },
    {
     "name": "stdout",
     "output_type": "stream",
     "text": [
      "67s - loss: 0.0236 - acc: 0.0000e+00\nEpoch 181/300\n"
     ]
    },
    {
     "name": "stdout",
     "output_type": "stream",
     "text": [
      "67s - loss: 0.0236 - acc: 0.0000e+00\nEpoch 182/300\n"
     ]
    },
    {
     "name": "stdout",
     "output_type": "stream",
     "text": [
      "68s - loss: 0.0236 - acc: 0.0000e+00\nEpoch 183/300\n"
     ]
    },
    {
     "name": "stdout",
     "output_type": "stream",
     "text": [
      "67s - loss: 0.0236 - acc: 0.0000e+00\nEpoch 184/300\n"
     ]
    },
    {
     "name": "stdout",
     "output_type": "stream",
     "text": [
      "67s - loss: 0.0236 - acc: 0.0000e+00\nEpoch 185/300\n"
     ]
    },
    {
     "name": "stdout",
     "output_type": "stream",
     "text": [
      "67s - loss: 0.0236 - acc: 0.0000e+00\nEpoch 186/300\n"
     ]
    },
    {
     "name": "stdout",
     "output_type": "stream",
     "text": [
      "67s - loss: 0.0235 - acc: 0.0000e+00\nEpoch 187/300\n"
     ]
    },
    {
     "name": "stdout",
     "output_type": "stream",
     "text": [
      "68s - loss: 0.0236 - acc: 0.0000e+00\nEpoch 188/300\n"
     ]
    },
    {
     "name": "stdout",
     "output_type": "stream",
     "text": [
      "67s - loss: 0.0235 - acc: 0.0000e+00\nEpoch 189/300\n"
     ]
    },
    {
     "name": "stdout",
     "output_type": "stream",
     "text": [
      "67s - loss: 0.0236 - acc: 0.0000e+00\nEpoch 190/300\n"
     ]
    },
    {
     "name": "stdout",
     "output_type": "stream",
     "text": [
      "67s - loss: 0.0236 - acc: 0.0000e+00\nEpoch 191/300\n"
     ]
    },
    {
     "name": "stdout",
     "output_type": "stream",
     "text": [
      "67s - loss: 0.0236 - acc: 0.0000e+00\nEpoch 192/300\n"
     ]
    },
    {
     "name": "stdout",
     "output_type": "stream",
     "text": [
      "67s - loss: 0.0236 - acc: 0.0000e+00\nEpoch 193/300\n"
     ]
    },
    {
     "name": "stdout",
     "output_type": "stream",
     "text": [
      "67s - loss: 0.0236 - acc: 0.0000e+00\nEpoch 194/300\n"
     ]
    },
    {
     "name": "stdout",
     "output_type": "stream",
     "text": [
      "67s - loss: 0.0235 - acc: 0.0000e+00\nEpoch 195/300\n"
     ]
    },
    {
     "name": "stdout",
     "output_type": "stream",
     "text": [
      "69s - loss: 0.0236 - acc: 0.0000e+00\nEpoch 196/300\n"
     ]
    },
    {
     "name": "stdout",
     "output_type": "stream",
     "text": [
      "68s - loss: 0.0236 - acc: 0.0000e+00\nEpoch 197/300\n"
     ]
    },
    {
     "name": "stdout",
     "output_type": "stream",
     "text": [
      "69s - loss: 0.0235 - acc: 0.0000e+00\nEpoch 198/300\n"
     ]
    },
    {
     "name": "stdout",
     "output_type": "stream",
     "text": [
      "69s - loss: 0.0236 - acc: 0.0000e+00\nEpoch 199/300\n"
     ]
    },
    {
     "name": "stdout",
     "output_type": "stream",
     "text": [
      "68s - loss: 0.0236 - acc: 0.0000e+00\nEpoch 200/300\n"
     ]
    },
    {
     "name": "stdout",
     "output_type": "stream",
     "text": [
      "68s - loss: 0.0235 - acc: 0.0000e+00\nEpoch 201/300\n"
     ]
    },
    {
     "name": "stdout",
     "output_type": "stream",
     "text": [
      "69s - loss: 0.0236 - acc: 0.0000e+00\nEpoch 202/300\n"
     ]
    },
    {
     "name": "stdout",
     "output_type": "stream",
     "text": [
      "69s - loss: 0.0236 - acc: 0.0000e+00\nEpoch 203/300\n"
     ]
    },
    {
     "name": "stdout",
     "output_type": "stream",
     "text": [
      "68s - loss: 0.0235 - acc: 0.0000e+00\nEpoch 204/300\n"
     ]
    },
    {
     "name": "stdout",
     "output_type": "stream",
     "text": [
      "68s - loss: 0.0236 - acc: 0.0000e+00\nEpoch 205/300\n"
     ]
    },
    {
     "name": "stdout",
     "output_type": "stream",
     "text": [
      "67s - loss: 0.0236 - acc: 0.0000e+00\nEpoch 206/300\n"
     ]
    },
    {
     "name": "stdout",
     "output_type": "stream",
     "text": [
      "68s - loss: 0.0236 - acc: 0.0000e+00\nEpoch 207/300\n"
     ]
    },
    {
     "name": "stdout",
     "output_type": "stream",
     "text": [
      "67s - loss: 0.0235 - acc: 0.0000e+00\nEpoch 208/300\n"
     ]
    },
    {
     "name": "stdout",
     "output_type": "stream",
     "text": [
      "67s - loss: 0.0236 - acc: 0.0000e+00\nEpoch 209/300\n"
     ]
    },
    {
     "name": "stdout",
     "output_type": "stream",
     "text": [
      "67s - loss: 0.0236 - acc: 0.0000e+00\nEpoch 210/300\n"
     ]
    },
    {
     "name": "stdout",
     "output_type": "stream",
     "text": [
      "67s - loss: 0.0234 - acc: 0.0000e+00\nEpoch 211/300\n"
     ]
    },
    {
     "name": "stdout",
     "output_type": "stream",
     "text": [
      "67s - loss: 0.0236 - acc: 0.0000e+00\nEpoch 212/300\n"
     ]
    },
    {
     "name": "stdout",
     "output_type": "stream",
     "text": [
      "68s - loss: 0.0235 - acc: 0.0000e+00\nEpoch 213/300\n"
     ]
    },
    {
     "name": "stdout",
     "output_type": "stream",
     "text": [
      "68s - loss: 0.0236 - acc: 0.0000e+00\nEpoch 214/300\n"
     ]
    },
    {
     "name": "stdout",
     "output_type": "stream",
     "text": [
      "52s - loss: 0.0235 - acc: 0.0000e+00\nEpoch 215/300\n"
     ]
    },
    {
     "name": "stdout",
     "output_type": "stream",
     "text": [
      "53s - loss: 0.0235 - acc: 0.0000e+00\nEpoch 216/300\n"
     ]
    },
    {
     "name": "stdout",
     "output_type": "stream",
     "text": [
      "51s - loss: 0.0236 - acc: 0.0000e+00\nEpoch 217/300\n"
     ]
    },
    {
     "name": "stdout",
     "output_type": "stream",
     "text": [
      "52s - loss: 0.0236 - acc: 0.0000e+00\nEpoch 218/300\n"
     ]
    },
    {
     "name": "stdout",
     "output_type": "stream",
     "text": [
      "51s - loss: 0.0236 - acc: 0.0000e+00\nEpoch 219/300\n"
     ]
    },
    {
     "name": "stdout",
     "output_type": "stream",
     "text": [
      "51s - loss: 0.0236 - acc: 0.0000e+00\nEpoch 220/300\n"
     ]
    },
    {
     "name": "stdout",
     "output_type": "stream",
     "text": [
      "52s - loss: 0.0236 - acc: 0.0000e+00\nEpoch 221/300\n"
     ]
    },
    {
     "name": "stdout",
     "output_type": "stream",
     "text": [
      "51s - loss: 0.0236 - acc: 0.0000e+00\nEpoch 222/300\n"
     ]
    },
    {
     "name": "stdout",
     "output_type": "stream",
     "text": [
      "51s - loss: 0.0236 - acc: 0.0000e+00\nEpoch 223/300\n"
     ]
    },
    {
     "name": "stdout",
     "output_type": "stream",
     "text": [
      "51s - loss: 0.0236 - acc: 0.0000e+00\nEpoch 224/300\n"
     ]
    },
    {
     "name": "stdout",
     "output_type": "stream",
     "text": [
      "51s - loss: 0.0235 - acc: 0.0000e+00\nEpoch 225/300\n"
     ]
    },
    {
     "name": "stdout",
     "output_type": "stream",
     "text": [
      "52s - loss: 0.0235 - acc: 0.0000e+00\nEpoch 226/300\n"
     ]
    }
   ],
   "source": [
    "parameters = {'look_back':[30, 60, 90],\n",
    "              'epochs':[300, 150, 60, 50], \n",
    "              'firstLevel':[16,32,64,128],\n",
    "              'secondLevel':[4, 8, 16],\n",
    "              'optimizer':['rmsprop', 'adam'],\n",
    "             }\n",
    "\n",
    "for look_back in parameters['look_back']:\n",
    "    for epochs in parameters['epochs']:\n",
    "        for firstLevel in parameters['firstLevel']:\n",
    "            for secondLevel in parameters['secondLevel']:\n",
    "                for optimizer in parameters['optimizer']:\n",
    "                    trainX, trainY, testX, testY, data, delta = preprocessor.prepare_multistock_data_with_rsi(no_of_records, look_back)\n",
    "                    no_of_features = delta.shape[1]\n",
    "                    model = training_engine.create_model(trainX, trainY, epochs, no_of_features, look_back, firstLevel, secondLevel, 'mse', optimizer)\n",
    "                    filename = 'lb{}_e{}_lvl_{}_{}_op_{}_model.h5'.format(look_back, epochs, firstLevel, secondLevel, optimizer)\n",
    "                    print \"Saving model {}\".format(filename)\n",
    "                    model.save(filename)\n",
    "                    del model  # deletes the existing model"
   ]
  },
  {
   "cell_type": "code",
   "execution_count": null,
   "metadata": {},
   "outputs": [],
   "source": [
    "print_results(base[1:].values, originalTrainPredict[:, 0], originalTrainY[:, 0], originalTestPredict[:, 0],\n",
    "                      originalTestY[:, 0], print_start, print_window)"
   ]
  }
 ],
 "metadata": {
  "kernelspec": {
   "display_name": "Python 2",
   "language": "python",
   "name": "python2"
  },
  "language_info": {
   "codemirror_mode": {
    "name": "ipython",
    "version": 2.0
   },
   "file_extension": ".py",
   "mimetype": "text/x-python",
   "name": "python",
   "nbconvert_exporter": "python",
   "pygments_lexer": "ipython2",
   "version": "2.7.13"
  }
 },
 "nbformat": 4,
 "nbformat_minor": 0
}